{
 "cells": [
  {
   "cell_type": "code",
   "execution_count": 1,
   "metadata": {},
   "outputs": [],
   "source": [
    "import pandas as pd\n",
    "import numpy as np\n",
    "\n",
    "import yfinance as  yf\n",
    "\n",
    "import datetime as dt"
   ]
  },
  {
   "cell_type": "code",
   "execution_count": 2,
   "metadata": {},
   "outputs": [],
   "source": [
    "club_ticker = [\"MANU\",\"JUVE.MI\",\"BVB.DE\",\"AJAX.AS\",\"SSL.MI\",\"ASR.MI\",\"CCP.L\",\"SLBEN.LS\",\"SCP.LS\"]"
   ]
  },
  {
   "cell_type": "code",
   "execution_count": 3,
   "metadata": {},
   "outputs": [
    {
     "name": "stdout",
     "output_type": "stream",
     "text": [
      "Manchester United plc\n",
      "\n",
      "Manchester United plc, together with its subsidiaries, owns and operates a professional sports team in the United Kingdom. The company operates Manchester United Football Club, a professional football club. It develops marketing and sponsorship relationships with international and regional companies to leverage its brand. The company also markets and sells sports apparel, training and leisure wear, and other clothing featuring the Manchester United brand; and sells other licensed products, such as coffee mugs and bed spreads featuring the Manchester United brand and trademarks, as well as distributes these products through Manchester United branded retail centers and e-commerce platforms, and through the company's partners' wholesale distribution channels. In addition, it distributes live football content directly, as well as through commercial partners; broadcasts television rights relating to the Premier League, Union of European Football Associations club competitions, and other competitions; and delivers Manchester United programming through MUTV television channel to territories worldwide. Further, the company offers a direct to consumer subscription mobile application; and operates Old Trafford, a sports venue with 74,239 seats, as well as invests in properties. Manchester United plc was founded in 1878 and is based in Manchester, the United Kingdom.\n",
      "\n",
      "Juventus Football Club S.p.A.\n",
      "\n",
      "Juventus Football Club S.p.A. operates as a professional football club in Italy. The company participates in national and international football competitions, as well as organizes matches. It is also involved in licensing television and media rights; sponsorship activities; direct retail, e-commerce, and brand licensing for the creation of products, as well as the marketing of additional services to fans; management of players' registration rights; sale of advertising space; and operation of a stadium and museum. Juventus Football Club S.p.A. was founded in 1897 and is headquartered in Turin, Italy. Juventus Football Club S.p.A. is a subsidiary of EXOR N.V.\n",
      "\n",
      "Borussia Dortmund GmbH & Co. Kommanditgesellschaft auf Aktien\n",
      "\n",
      "Borussia Dortmund GmbH & Co. Kommanditgesellschaft auf Aktien, through its subsidiaries, operates a football club in Germany. The company operates a football club in Dortmund under the SIGNAL IDUNA PARK name, including a professional football squad. It also provides transfer services that include compensation payments for players, catering, TV marketing, advertising comprising marketing and sponsoring activities, and match operations, as well as internet, media, hospitality services. In addition, the company sells merchandise; conducts stadium tours, sports travel, conferences, incentive trips, and various other events; provides arrangements for event staffing services, and hotel and car hire bookings; and offers travel services by air, ship, and rail, as well as travel agency services. Further, it holds interest in medical rehabilitation center. The company was founded in 1909 and is based in Dortmund, Germany.\n",
      "\n",
      "AFC Ajax NV\n",
      "\n",
      "AFC Ajax NV operates a football club primarily in the Netherlands. The company also operates a stadium and an youth academy. In addition, it sells tickets online. The company was founded in 1900 and is based in Amsterdam, the Netherlands.\n",
      "\n",
      "S.S. Lazio S.p.A.\n",
      "\n",
      "S.S. Lazio S.p.A. operates a professional sports club in Italy. The company was founded in 1900 and is based in Formello, Italy.\n",
      "\n",
      "A.S. Roma S.P.A.\n",
      "\n",
      "A.S. Roma S.p.A., together with its subsidiary, operates a football club in Italy. The company operates a stadium; sells match tickets, and television and radio rights; sells AS Roma branded products through AS Roma stores; and licenses AS Roma branded products. It also engages in the sponsorship and advertising activities. The company was founded in 1927 and is based in Rome, Italy. A.S. Roma S.p.A. is a subsidiary of NEEP Roma Holding S.p.A.\n",
      "\n",
      "Celtic plc\n",
      "\n",
      "Celtic plc, through its subsidiary, Celtic F.C. Limited, operates a professional football club in the United Kingdom. The company operates through three segments: Football and Stadium Operations, Merchandising, and Multimedia and Other Commercial Activities. It is involved in the operation of a professional football club covering a range of activities, including football operations and investment; operation of the Celtic FC Youth Academy; match ticketing; merchandising; partner programs; marketing and brand protection; multimedia; stadium operations; facilities and property; catering and hospitality; public relations and supporter relations; and human resources. The company also engages in retail, wholesale, and e-commerce activities; and the sale of television rights and sponsorships. Celtic plc was founded in 1887 and is based in Glasgow, the United Kingdom.\n",
      "\n",
      "Sport Lisboa e Benfica - Futebol, SAD\n",
      "\n",
      "Sport Lisboa e Benfica - Futebol, SAD operates a sports club in Portugal. The company was founded in 1904 and is based in Lisbon, Portugal. Sport Lisboa e Benfica - Futebol, SAD operates as a subsidiary of Sport Lisboa e Benfica SGPS SA.\n",
      "\n",
      "Sporting Clube de Portugal - Futebol, SAD\n",
      "\n",
      "Sporting Clube de Portugal - Futebol, SAD operates sports clubs in Portugal. The company also engages in the sale of tickets for games; advertising and sponsorships activities; and provision of television rights. Sporting Clube de Portugal - Futebol, SAD was founded in 1997 and is headquartered in Lisbon, Portugal.\n",
      "\n"
     ]
    }
   ],
   "source": [
    "for t in club_ticker:\n",
    "    club = yf.Ticker(t)\n",
    "    print(club.info[\"longName\"])\n",
    "    print(\"\")\n",
    "    print(club.info[\"longBusinessSummary\"])\n",
    "    print(\"\")"
   ]
  },
  {
   "cell_type": "code",
   "execution_count": 4,
   "metadata": {},
   "outputs": [
    {
     "name": "stdout",
     "output_type": "stream",
     "text": [
      "[*********************100%***********************]  9 of 9 completed\n"
     ]
    }
   ],
   "source": [
    "club_prices = yf.download(tickers=club_ticker)"
   ]
  },
  {
   "cell_type": "code",
   "execution_count": 5,
   "metadata": {},
   "outputs": [
    {
     "data": {
      "text/html": [
       "<div>\n",
       "<style scoped>\n",
       "    .dataframe tbody tr th:only-of-type {\n",
       "        vertical-align: middle;\n",
       "    }\n",
       "\n",
       "    .dataframe tbody tr th {\n",
       "        vertical-align: top;\n",
       "    }\n",
       "\n",
       "    .dataframe thead tr th {\n",
       "        text-align: left;\n",
       "    }\n",
       "\n",
       "    .dataframe thead tr:last-of-type th {\n",
       "        text-align: right;\n",
       "    }\n",
       "</style>\n",
       "<table border=\"1\" class=\"dataframe\">\n",
       "  <thead>\n",
       "    <tr>\n",
       "      <th></th>\n",
       "      <th colspan=\"9\" halign=\"left\">Adj Close</th>\n",
       "      <th>Close</th>\n",
       "      <th>...</th>\n",
       "      <th>Open</th>\n",
       "      <th colspan=\"9\" halign=\"left\">Volume</th>\n",
       "    </tr>\n",
       "    <tr>\n",
       "      <th></th>\n",
       "      <th>AJAX.AS</th>\n",
       "      <th>ASR.MI</th>\n",
       "      <th>BVB.DE</th>\n",
       "      <th>CCP.L</th>\n",
       "      <th>JUVE.MI</th>\n",
       "      <th>MANU</th>\n",
       "      <th>SCP.LS</th>\n",
       "      <th>SLBEN.LS</th>\n",
       "      <th>SSL.MI</th>\n",
       "      <th>AJAX.AS</th>\n",
       "      <th>...</th>\n",
       "      <th>SSL.MI</th>\n",
       "      <th>AJAX.AS</th>\n",
       "      <th>ASR.MI</th>\n",
       "      <th>BVB.DE</th>\n",
       "      <th>CCP.L</th>\n",
       "      <th>JUVE.MI</th>\n",
       "      <th>MANU</th>\n",
       "      <th>SCP.LS</th>\n",
       "      <th>SLBEN.LS</th>\n",
       "      <th>SSL.MI</th>\n",
       "    </tr>\n",
       "    <tr>\n",
       "      <th>Date</th>\n",
       "      <th></th>\n",
       "      <th></th>\n",
       "      <th></th>\n",
       "      <th></th>\n",
       "      <th></th>\n",
       "      <th></th>\n",
       "      <th></th>\n",
       "      <th></th>\n",
       "      <th></th>\n",
       "      <th></th>\n",
       "      <th></th>\n",
       "      <th></th>\n",
       "      <th></th>\n",
       "      <th></th>\n",
       "      <th></th>\n",
       "      <th></th>\n",
       "      <th></th>\n",
       "      <th></th>\n",
       "      <th></th>\n",
       "      <th></th>\n",
       "      <th></th>\n",
       "    </tr>\n",
       "  </thead>\n",
       "  <tbody>\n",
       "    <tr>\n",
       "      <th>1995-09-29</th>\n",
       "      <td>NaN</td>\n",
       "      <td>NaN</td>\n",
       "      <td>NaN</td>\n",
       "      <td>66.0</td>\n",
       "      <td>NaN</td>\n",
       "      <td>NaN</td>\n",
       "      <td>NaN</td>\n",
       "      <td>NaN</td>\n",
       "      <td>NaN</td>\n",
       "      <td>NaN</td>\n",
       "      <td>...</td>\n",
       "      <td>NaN</td>\n",
       "      <td>NaN</td>\n",
       "      <td>NaN</td>\n",
       "      <td>NaN</td>\n",
       "      <td>0.0</td>\n",
       "      <td>NaN</td>\n",
       "      <td>NaN</td>\n",
       "      <td>NaN</td>\n",
       "      <td>NaN</td>\n",
       "      <td>NaN</td>\n",
       "    </tr>\n",
       "    <tr>\n",
       "      <th>1995-10-06</th>\n",
       "      <td>NaN</td>\n",
       "      <td>NaN</td>\n",
       "      <td>NaN</td>\n",
       "      <td>67.5</td>\n",
       "      <td>NaN</td>\n",
       "      <td>NaN</td>\n",
       "      <td>NaN</td>\n",
       "      <td>NaN</td>\n",
       "      <td>NaN</td>\n",
       "      <td>NaN</td>\n",
       "      <td>...</td>\n",
       "      <td>NaN</td>\n",
       "      <td>NaN</td>\n",
       "      <td>NaN</td>\n",
       "      <td>NaN</td>\n",
       "      <td>0.0</td>\n",
       "      <td>NaN</td>\n",
       "      <td>NaN</td>\n",
       "      <td>NaN</td>\n",
       "      <td>NaN</td>\n",
       "      <td>NaN</td>\n",
       "    </tr>\n",
       "    <tr>\n",
       "      <th>1995-12-05</th>\n",
       "      <td>NaN</td>\n",
       "      <td>NaN</td>\n",
       "      <td>NaN</td>\n",
       "      <td>66.5</td>\n",
       "      <td>NaN</td>\n",
       "      <td>NaN</td>\n",
       "      <td>NaN</td>\n",
       "      <td>NaN</td>\n",
       "      <td>NaN</td>\n",
       "      <td>NaN</td>\n",
       "      <td>...</td>\n",
       "      <td>NaN</td>\n",
       "      <td>NaN</td>\n",
       "      <td>NaN</td>\n",
       "      <td>NaN</td>\n",
       "      <td>0.0</td>\n",
       "      <td>NaN</td>\n",
       "      <td>NaN</td>\n",
       "      <td>NaN</td>\n",
       "      <td>NaN</td>\n",
       "      <td>NaN</td>\n",
       "    </tr>\n",
       "    <tr>\n",
       "      <th>1995-12-15</th>\n",
       "      <td>NaN</td>\n",
       "      <td>NaN</td>\n",
       "      <td>NaN</td>\n",
       "      <td>65.5</td>\n",
       "      <td>NaN</td>\n",
       "      <td>NaN</td>\n",
       "      <td>NaN</td>\n",
       "      <td>NaN</td>\n",
       "      <td>NaN</td>\n",
       "      <td>NaN</td>\n",
       "      <td>...</td>\n",
       "      <td>NaN</td>\n",
       "      <td>NaN</td>\n",
       "      <td>NaN</td>\n",
       "      <td>NaN</td>\n",
       "      <td>0.0</td>\n",
       "      <td>NaN</td>\n",
       "      <td>NaN</td>\n",
       "      <td>NaN</td>\n",
       "      <td>NaN</td>\n",
       "      <td>NaN</td>\n",
       "    </tr>\n",
       "    <tr>\n",
       "      <th>1996-02-26</th>\n",
       "      <td>NaN</td>\n",
       "      <td>NaN</td>\n",
       "      <td>NaN</td>\n",
       "      <td>72.5</td>\n",
       "      <td>NaN</td>\n",
       "      <td>NaN</td>\n",
       "      <td>NaN</td>\n",
       "      <td>NaN</td>\n",
       "      <td>NaN</td>\n",
       "      <td>NaN</td>\n",
       "      <td>...</td>\n",
       "      <td>NaN</td>\n",
       "      <td>NaN</td>\n",
       "      <td>NaN</td>\n",
       "      <td>NaN</td>\n",
       "      <td>0.0</td>\n",
       "      <td>NaN</td>\n",
       "      <td>NaN</td>\n",
       "      <td>NaN</td>\n",
       "      <td>NaN</td>\n",
       "      <td>NaN</td>\n",
       "    </tr>\n",
       "    <tr>\n",
       "      <th>...</th>\n",
       "      <td>...</td>\n",
       "      <td>...</td>\n",
       "      <td>...</td>\n",
       "      <td>...</td>\n",
       "      <td>...</td>\n",
       "      <td>...</td>\n",
       "      <td>...</td>\n",
       "      <td>...</td>\n",
       "      <td>...</td>\n",
       "      <td>...</td>\n",
       "      <td>...</td>\n",
       "      <td>...</td>\n",
       "      <td>...</td>\n",
       "      <td>...</td>\n",
       "      <td>...</td>\n",
       "      <td>...</td>\n",
       "      <td>...</td>\n",
       "      <td>...</td>\n",
       "      <td>...</td>\n",
       "      <td>...</td>\n",
       "      <td>...</td>\n",
       "    </tr>\n",
       "    <tr>\n",
       "      <th>2022-02-14</th>\n",
       "      <td>14.00</td>\n",
       "      <td>0.3130</td>\n",
       "      <td>4.282</td>\n",
       "      <td>105.0</td>\n",
       "      <td>0.3798</td>\n",
       "      <td>13.51</td>\n",
       "      <td>0.820</td>\n",
       "      <td>3.75</td>\n",
       "      <td>1.054</td>\n",
       "      <td>14.00</td>\n",
       "      <td>...</td>\n",
       "      <td>1.070</td>\n",
       "      <td>1609.0</td>\n",
       "      <td>343610.0</td>\n",
       "      <td>205390.0</td>\n",
       "      <td>649.0</td>\n",
       "      <td>29709963.0</td>\n",
       "      <td>368800.0</td>\n",
       "      <td>829.0</td>\n",
       "      <td>1830.0</td>\n",
       "      <td>28844.0</td>\n",
       "    </tr>\n",
       "    <tr>\n",
       "      <th>2022-02-15</th>\n",
       "      <td>14.10</td>\n",
       "      <td>0.3195</td>\n",
       "      <td>4.384</td>\n",
       "      <td>105.0</td>\n",
       "      <td>0.3748</td>\n",
       "      <td>13.60</td>\n",
       "      <td>0.865</td>\n",
       "      <td>3.75</td>\n",
       "      <td>1.056</td>\n",
       "      <td>14.10</td>\n",
       "      <td>...</td>\n",
       "      <td>1.060</td>\n",
       "      <td>1933.0</td>\n",
       "      <td>222240.0</td>\n",
       "      <td>250186.0</td>\n",
       "      <td>2356.0</td>\n",
       "      <td>12995328.0</td>\n",
       "      <td>544500.0</td>\n",
       "      <td>12.0</td>\n",
       "      <td>3166.0</td>\n",
       "      <td>10423.0</td>\n",
       "    </tr>\n",
       "    <tr>\n",
       "      <th>2022-02-16</th>\n",
       "      <td>14.20</td>\n",
       "      <td>0.3195</td>\n",
       "      <td>4.300</td>\n",
       "      <td>105.0</td>\n",
       "      <td>0.3702</td>\n",
       "      <td>13.61</td>\n",
       "      <td>0.830</td>\n",
       "      <td>3.70</td>\n",
       "      <td>1.052</td>\n",
       "      <td>14.20</td>\n",
       "      <td>...</td>\n",
       "      <td>1.050</td>\n",
       "      <td>782.0</td>\n",
       "      <td>96377.0</td>\n",
       "      <td>168909.0</td>\n",
       "      <td>130.0</td>\n",
       "      <td>7457869.0</td>\n",
       "      <td>337100.0</td>\n",
       "      <td>131.0</td>\n",
       "      <td>1269.0</td>\n",
       "      <td>2872.0</td>\n",
       "    </tr>\n",
       "    <tr>\n",
       "      <th>2022-02-17</th>\n",
       "      <td>14.05</td>\n",
       "      <td>0.3160</td>\n",
       "      <td>4.286</td>\n",
       "      <td>105.0</td>\n",
       "      <td>0.3606</td>\n",
       "      <td>13.32</td>\n",
       "      <td>0.830</td>\n",
       "      <td>3.63</td>\n",
       "      <td>1.050</td>\n",
       "      <td>14.05</td>\n",
       "      <td>...</td>\n",
       "      <td>1.062</td>\n",
       "      <td>1079.0</td>\n",
       "      <td>185410.0</td>\n",
       "      <td>234874.0</td>\n",
       "      <td>670.0</td>\n",
       "      <td>12416254.0</td>\n",
       "      <td>300400.0</td>\n",
       "      <td>179.0</td>\n",
       "      <td>392.0</td>\n",
       "      <td>16797.0</td>\n",
       "    </tr>\n",
       "    <tr>\n",
       "      <th>2022-02-18</th>\n",
       "      <td>14.00</td>\n",
       "      <td>0.3125</td>\n",
       "      <td>4.188</td>\n",
       "      <td>NaN</td>\n",
       "      <td>0.3616</td>\n",
       "      <td>NaN</td>\n",
       "      <td>NaN</td>\n",
       "      <td>3.78</td>\n",
       "      <td>1.040</td>\n",
       "      <td>14.00</td>\n",
       "      <td>...</td>\n",
       "      <td>1.034</td>\n",
       "      <td>86.0</td>\n",
       "      <td>23499.0</td>\n",
       "      <td>82901.0</td>\n",
       "      <td>NaN</td>\n",
       "      <td>2489578.0</td>\n",
       "      <td>NaN</td>\n",
       "      <td>NaN</td>\n",
       "      <td>325.0</td>\n",
       "      <td>5044.0</td>\n",
       "    </tr>\n",
       "  </tbody>\n",
       "</table>\n",
       "<p>6168 rows × 54 columns</p>\n",
       "</div>"
      ],
      "text/plain": [
       "           Adj Close                                                       \\\n",
       "             AJAX.AS  ASR.MI BVB.DE  CCP.L JUVE.MI   MANU SCP.LS SLBEN.LS   \n",
       "Date                                                                        \n",
       "1995-09-29       NaN     NaN    NaN   66.0     NaN    NaN    NaN      NaN   \n",
       "1995-10-06       NaN     NaN    NaN   67.5     NaN    NaN    NaN      NaN   \n",
       "1995-12-05       NaN     NaN    NaN   66.5     NaN    NaN    NaN      NaN   \n",
       "1995-12-15       NaN     NaN    NaN   65.5     NaN    NaN    NaN      NaN   \n",
       "1996-02-26       NaN     NaN    NaN   72.5     NaN    NaN    NaN      NaN   \n",
       "...              ...     ...    ...    ...     ...    ...    ...      ...   \n",
       "2022-02-14     14.00  0.3130  4.282  105.0  0.3798  13.51  0.820     3.75   \n",
       "2022-02-15     14.10  0.3195  4.384  105.0  0.3748  13.60  0.865     3.75   \n",
       "2022-02-16     14.20  0.3195  4.300  105.0  0.3702  13.61  0.830     3.70   \n",
       "2022-02-17     14.05  0.3160  4.286  105.0  0.3606  13.32  0.830     3.63   \n",
       "2022-02-18     14.00  0.3125  4.188    NaN  0.3616    NaN    NaN     3.78   \n",
       "\n",
       "                    Close  ...   Open  Volume                              \\\n",
       "           SSL.MI AJAX.AS  ... SSL.MI AJAX.AS    ASR.MI    BVB.DE   CCP.L   \n",
       "Date                       ...                                              \n",
       "1995-09-29    NaN     NaN  ...    NaN     NaN       NaN       NaN     0.0   \n",
       "1995-10-06    NaN     NaN  ...    NaN     NaN       NaN       NaN     0.0   \n",
       "1995-12-05    NaN     NaN  ...    NaN     NaN       NaN       NaN     0.0   \n",
       "1995-12-15    NaN     NaN  ...    NaN     NaN       NaN       NaN     0.0   \n",
       "1996-02-26    NaN     NaN  ...    NaN     NaN       NaN       NaN     0.0   \n",
       "...           ...     ...  ...    ...     ...       ...       ...     ...   \n",
       "2022-02-14  1.054   14.00  ...  1.070  1609.0  343610.0  205390.0   649.0   \n",
       "2022-02-15  1.056   14.10  ...  1.060  1933.0  222240.0  250186.0  2356.0   \n",
       "2022-02-16  1.052   14.20  ...  1.050   782.0   96377.0  168909.0   130.0   \n",
       "2022-02-17  1.050   14.05  ...  1.062  1079.0  185410.0  234874.0   670.0   \n",
       "2022-02-18  1.040   14.00  ...  1.034    86.0   23499.0   82901.0     NaN   \n",
       "\n",
       "                                                           \n",
       "               JUVE.MI      MANU SCP.LS SLBEN.LS   SSL.MI  \n",
       "Date                                                       \n",
       "1995-09-29         NaN       NaN    NaN      NaN      NaN  \n",
       "1995-10-06         NaN       NaN    NaN      NaN      NaN  \n",
       "1995-12-05         NaN       NaN    NaN      NaN      NaN  \n",
       "1995-12-15         NaN       NaN    NaN      NaN      NaN  \n",
       "1996-02-26         NaN       NaN    NaN      NaN      NaN  \n",
       "...                ...       ...    ...      ...      ...  \n",
       "2022-02-14  29709963.0  368800.0  829.0   1830.0  28844.0  \n",
       "2022-02-15  12995328.0  544500.0   12.0   3166.0  10423.0  \n",
       "2022-02-16   7457869.0  337100.0  131.0   1269.0   2872.0  \n",
       "2022-02-17  12416254.0  300400.0  179.0    392.0  16797.0  \n",
       "2022-02-18   2489578.0       NaN    NaN    325.0   5044.0  \n",
       "\n",
       "[6168 rows x 54 columns]"
      ]
     },
     "execution_count": 5,
     "metadata": {},
     "output_type": "execute_result"
    }
   ],
   "source": [
    "club_prices"
   ]
  },
  {
   "cell_type": "code",
   "execution_count": 6,
   "metadata": {},
   "outputs": [
    {
     "data": {
      "text/plain": [
       "<AxesSubplot:xlabel='Date'>"
      ]
     },
     "execution_count": 6,
     "metadata": {},
     "output_type": "execute_result"
    },
    {
     "data": {
      "image/png": "[encoded data removed]",
      "text/plain": [
       "<Figure size 432x288 with 1 Axes>"
      ]
     },
     "metadata": {
      "needs_background": "light"
     },
     "output_type": "display_data"
    }
   ],
   "source": [
    "club_prices[\"Adj Close\"].plot()"
   ]
  },
  {
   "cell_type": "code",
   "execution_count": 7,
   "metadata": {},
   "outputs": [
    {
     "data": {
      "text/plain": [
       "<AxesSubplot:xlabel='Date'>"
      ]
     },
     "execution_count": 7,
     "metadata": {},
     "output_type": "execute_result"
    },
    {
     "data": {
      "image/png": "[encoded data removed]",
      "text/plain": [
       "<Figure size 432x288 with 1 Axes>"
      ]
     },
     "metadata": {
      "needs_background": "light"
     },
     "output_type": "display_data"
    }
   ],
   "source": [
    "club_prices[\"Adj Close\"][club_prices[\"Adj Close\"].index > dt.datetime(2000,1,1)].plot()"
   ]
  },
  {
   "cell_type": "code",
   "execution_count": 8,
   "metadata": {},
   "outputs": [
    {
     "data": {
      "text/plain": [
       "<AxesSubplot:xlabel='Date'>"
      ]
     },
     "execution_count": 8,
     "metadata": {},
     "output_type": "execute_result"
    },
    {
     "data": {
      "image/png": "[encoded data removed]",
      "text/plain": [
       "<Figure size 432x288 with 1 Axes>"
      ]
     },
     "metadata": {
      "needs_background": "light"
     },
     "output_type": "display_data"
    }
   ],
   "source": [
    "club_prices[\"Adj Close\"][club_prices[\"Adj Close\"].index > dt.datetime(2018,10,1)][\"AJAX.AS\"].plot()"
   ]
  },
  {
   "cell_type": "code",
   "execution_count": 9,
   "metadata": {},
   "outputs": [
    {
     "data": {
      "text/plain": [
       "<AxesSubplot:xlabel='Date'>"
      ]
     },
     "execution_count": 9,
     "metadata": {},
     "output_type": "execute_result"
    },
    {
     "data": {
      "image/png": "[encoded data removed]",
      "text/plain": [
       "<Figure size 432x288 with 1 Axes>"
      ]
     },
     "metadata": {
      "needs_background": "light"
     },
     "output_type": "display_data"
    }
   ],
   "source": [
    "club_prices[\"Adj Close\"][(club_prices[\"Adj Close\"].index > dt.datetime(2019,3,1)) & (club_prices[\"Adj Close\"].index < dt.datetime(2019,6,1))][\"AJAX.AS\"].plot()"
   ]
  },
  {
   "cell_type": "code",
   "execution_count": 10,
   "metadata": {},
   "outputs": [],
   "source": [
    "from bs4 import BeautifulSoup\n",
    "import urllib.request\n",
    "import re"
   ]
  },
  {
   "cell_type": "code",
   "execution_count": 11,
   "metadata": {},
   "outputs": [],
   "source": [
    "# url = \"https://sports.tipico.de/en\"\n",
    "\n",
    "# urllib.request.urlopen(url)"
   ]
  },
  {
   "cell_type": "code",
   "execution_count": 31,
   "metadata": {},
   "outputs": [],
   "source": [
    "season_2122 = pd.read_html(\"https://www.kicker.de/borussia-dortmund/spielplan\")"
   ]
  },
  {
   "cell_type": "code",
   "execution_count": 32,
   "metadata": {},
   "outputs": [
    {
     "data": {
      "text/html": [
       "<div>\n",
       "<style scoped>\n",
       "    .dataframe tbody tr th:only-of-type {\n",
       "        vertical-align: middle;\n",
       "    }\n",
       "\n",
       "    .dataframe tbody tr th {\n",
       "        vertical-align: top;\n",
       "    }\n",
       "\n",
       "    .dataframe thead th {\n",
       "        text-align: right;\n",
       "    }\n",
       "</style>\n",
       "<table border=\"1\" class=\"dataframe\">\n",
       "  <thead>\n",
       "    <tr style=\"text-align: right;\">\n",
       "      <th></th>\n",
       "      <th>0</th>\n",
       "      <th>1</th>\n",
       "      <th>2</th>\n",
       "      <th>3</th>\n",
       "      <th>4</th>\n",
       "    </tr>\n",
       "  </thead>\n",
       "  <tbody>\n",
       "    <tr>\n",
       "      <th>0</th>\n",
       "      <td>Di, 13.07.2021</td>\n",
       "      <td>NaN</td>\n",
       "      <td>Testspiele, KW 28 2021</td>\n",
       "      <td>Di, 13.07.2021  FC Gießen FC Gießen 0  :  2  B...</td>\n",
       "      <td>Spielbericht</td>\n",
       "    </tr>\n",
       "    <tr>\n",
       "      <th>1</th>\n",
       "      <td>Sa, 17.07.2021</td>\n",
       "      <td>NaN</td>\n",
       "      <td>Testspiele, KW 28 2021</td>\n",
       "      <td>Sa, 17.07.2021  MSV Duisburg Duisburg annull. ...</td>\n",
       "      <td>Annulliert</td>\n",
       "    </tr>\n",
       "    <tr>\n",
       "      <th>2</th>\n",
       "      <td>Sa, 17.07.2021</td>\n",
       "      <td>NaN</td>\n",
       "      <td>Testspiele, KW 28 2021</td>\n",
       "      <td>Sa, 17.07.2021  Borussia Dortmund Dortmund 1  ...</td>\n",
       "      <td>Spielbericht</td>\n",
       "    </tr>\n",
       "    <tr>\n",
       "      <th>3</th>\n",
       "      <td>Sa, 24.07.2021</td>\n",
       "      <td>NaN</td>\n",
       "      <td>Testspiele, KW 29 2021</td>\n",
       "      <td>Sa, 24.07.2021  Borussia Dortmund Dortmund 0  ...</td>\n",
       "      <td>Spielbericht</td>\n",
       "    </tr>\n",
       "    <tr>\n",
       "      <th>4</th>\n",
       "      <td>Fr, 30.07.2021</td>\n",
       "      <td>NaN</td>\n",
       "      <td>Testspiele, KW 30 2021</td>\n",
       "      <td>Fr, 30.07.2021  Borussia Dortmund Dortmund 3  ...</td>\n",
       "      <td>Spielbericht</td>\n",
       "    </tr>\n",
       "  </tbody>\n",
       "</table>\n",
       "</div>"
      ],
      "text/plain": [
       "                0   1                       2  \\\n",
       "0  Di, 13.07.2021 NaN  Testspiele, KW 28 2021   \n",
       "1  Sa, 17.07.2021 NaN  Testspiele, KW 28 2021   \n",
       "2  Sa, 17.07.2021 NaN  Testspiele, KW 28 2021   \n",
       "3  Sa, 24.07.2021 NaN  Testspiele, KW 29 2021   \n",
       "4  Fr, 30.07.2021 NaN  Testspiele, KW 30 2021   \n",
       "\n",
       "                                                   3             4  \n",
       "0  Di, 13.07.2021  FC Gießen FC Gießen 0  :  2  B...  Spielbericht  \n",
       "1  Sa, 17.07.2021  MSV Duisburg Duisburg annull. ...    Annulliert  \n",
       "2  Sa, 17.07.2021  Borussia Dortmund Dortmund 1  ...  Spielbericht  \n",
       "3  Sa, 24.07.2021  Borussia Dortmund Dortmund 0  ...  Spielbericht  \n",
       "4  Fr, 30.07.2021  Borussia Dortmund Dortmund 3  ...  Spielbericht  "
      ]
     },
     "execution_count": 32,
     "metadata": {},
     "output_type": "execute_result"
    }
   ],
   "source": [
    "season_2122[0]"
   ]
  },
  {
   "cell_type": "code",
   "execution_count": 47,
   "metadata": {},
   "outputs": [],
   "source": [
    "for i in range(len(season_2122)):\n",
    "    season_2122[i][\"Date\"] = season_2122[i][0].map(lambda x: re.sub(\"[^0-9.]\", \"\", x))\n"
   ]
  },
  {
   "cell_type": "code",
   "execution_count": 49,
   "metadata": {},
   "outputs": [
    {
     "data": {
      "text/html": [
       "<div>\n",
       "<style scoped>\n",
       "    .dataframe tbody tr th:only-of-type {\n",
       "        vertical-align: middle;\n",
       "    }\n",
       "\n",
       "    .dataframe tbody tr th {\n",
       "        vertical-align: top;\n",
       "    }\n",
       "\n",
       "    .dataframe thead th {\n",
       "        text-align: right;\n",
       "    }\n",
       "</style>\n",
       "<table border=\"1\" class=\"dataframe\">\n",
       "  <thead>\n",
       "    <tr style=\"text-align: right;\">\n",
       "      <th></th>\n",
       "      <th>0</th>\n",
       "      <th>1</th>\n",
       "      <th>2</th>\n",
       "      <th>3</th>\n",
       "      <th>4</th>\n",
       "      <th>Date</th>\n",
       "    </tr>\n",
       "  </thead>\n",
       "  <tbody>\n",
       "    <tr>\n",
       "      <th>0</th>\n",
       "      <td>Di, 13.07.2021</td>\n",
       "      <td>NaN</td>\n",
       "      <td>Testspiele, KW 28 2021</td>\n",
       "      <td>Di, 13.07.2021  FC Gießen FC Gießen 0  :  2  B...</td>\n",
       "      <td>Spielbericht</td>\n",
       "      <td>13.07.2021</td>\n",
       "    </tr>\n",
       "    <tr>\n",
       "      <th>1</th>\n",
       "      <td>Sa, 17.07.2021</td>\n",
       "      <td>NaN</td>\n",
       "      <td>Testspiele, KW 28 2021</td>\n",
       "      <td>Sa, 17.07.2021  MSV Duisburg Duisburg annull. ...</td>\n",
       "      <td>Annulliert</td>\n",
       "      <td>17.07.2021</td>\n",
       "    </tr>\n",
       "    <tr>\n",
       "      <th>2</th>\n",
       "      <td>Sa, 17.07.2021</td>\n",
       "      <td>NaN</td>\n",
       "      <td>Testspiele, KW 28 2021</td>\n",
       "      <td>Sa, 17.07.2021  Borussia Dortmund Dortmund 1  ...</td>\n",
       "      <td>Spielbericht</td>\n",
       "      <td>17.07.2021</td>\n",
       "    </tr>\n",
       "    <tr>\n",
       "      <th>3</th>\n",
       "      <td>Sa, 24.07.2021</td>\n",
       "      <td>NaN</td>\n",
       "      <td>Testspiele, KW 29 2021</td>\n",
       "      <td>Sa, 24.07.2021  Borussia Dortmund Dortmund 0  ...</td>\n",
       "      <td>Spielbericht</td>\n",
       "      <td>24.07.2021</td>\n",
       "    </tr>\n",
       "    <tr>\n",
       "      <th>4</th>\n",
       "      <td>Fr, 30.07.2021</td>\n",
       "      <td>NaN</td>\n",
       "      <td>Testspiele, KW 30 2021</td>\n",
       "      <td>Fr, 30.07.2021  Borussia Dortmund Dortmund 3  ...</td>\n",
       "      <td>Spielbericht</td>\n",
       "      <td>30.07.2021</td>\n",
       "    </tr>\n",
       "  </tbody>\n",
       "</table>\n",
       "</div>"
      ],
      "text/plain": [
       "                0   1                       2  \\\n",
       "0  Di, 13.07.2021 NaN  Testspiele, KW 28 2021   \n",
       "1  Sa, 17.07.2021 NaN  Testspiele, KW 28 2021   \n",
       "2  Sa, 17.07.2021 NaN  Testspiele, KW 28 2021   \n",
       "3  Sa, 24.07.2021 NaN  Testspiele, KW 29 2021   \n",
       "4  Fr, 30.07.2021 NaN  Testspiele, KW 30 2021   \n",
       "\n",
       "                                                   3             4        Date  \n",
       "0  Di, 13.07.2021  FC Gießen FC Gießen 0  :  2  B...  Spielbericht  13.07.2021  \n",
       "1  Sa, 17.07.2021  MSV Duisburg Duisburg annull. ...    Annulliert  17.07.2021  \n",
       "2  Sa, 17.07.2021  Borussia Dortmund Dortmund 1  ...  Spielbericht  17.07.2021  \n",
       "3  Sa, 24.07.2021  Borussia Dortmund Dortmund 0  ...  Spielbericht  24.07.2021  \n",
       "4  Fr, 30.07.2021  Borussia Dortmund Dortmund 3  ...  Spielbericht  30.07.2021  "
      ]
     },
     "execution_count": 49,
     "metadata": {},
     "output_type": "execute_result"
    }
   ],
   "source": [
    "season_2122[0]"
   ]
  },
  {
   "cell_type": "code",
   "execution_count": 36,
   "metadata": {},
   "outputs": [
    {
     "data": {
      "text/plain": [
       "0    Di, 13.07.2021\n",
       "1    Sa, 17.07.2021\n",
       "2    Sa, 17.07.2021\n",
       "3    Sa, 24.07.2021\n",
       "4    Fr, 30.07.2021\n",
       "Name: 0, dtype: object"
      ]
     },
     "execution_count": 36,
     "metadata": {},
     "output_type": "execute_result"
    }
   ],
   "source": [
    "season_2122[0][0]"
   ]
  },
  {
   "cell_type": "code",
   "execution_count": 54,
   "metadata": {},
   "outputs": [],
   "source": [
    "for i in range(len(season_2122)):\n",
    "    for j  in range(len(season_2122[i])):\n",
    "        re.sub(season_2122[i][0].iloc[j]+\" \",\"\",season_2122[i][3].iloc[j])"
   ]
  },
  {
   "cell_type": "code",
   "execution_count": 17,
   "metadata": {},
   "outputs": [
    {
     "data": {
      "text/html": [
       "<div>\n",
       "<style scoped>\n",
       "    .dataframe tbody tr th:only-of-type {\n",
       "        vertical-align: middle;\n",
       "    }\n",
       "\n",
       "    .dataframe tbody tr th {\n",
       "        vertical-align: top;\n",
       "    }\n",
       "\n",
       "    .dataframe thead th {\n",
       "        text-align: right;\n",
       "    }\n",
       "</style>\n",
       "<table border=\"1\" class=\"dataframe\">\n",
       "  <thead>\n",
       "    <tr style=\"text-align: right;\">\n",
       "      <th></th>\n",
       "      <th>0</th>\n",
       "      <th>1</th>\n",
       "      <th>2</th>\n",
       "      <th>3</th>\n",
       "      <th>4</th>\n",
       "    </tr>\n",
       "  </thead>\n",
       "  <tbody>\n",
       "    <tr>\n",
       "      <th>0</th>\n",
       "      <td>Sa, 07.08.2021</td>\n",
       "      <td>NaN</td>\n",
       "      <td>DFB-Pokal, Rd. 1</td>\n",
       "      <td>Sa, 07.08.2021  SV Wehen Wiesbaden Wiesbaden 0...</td>\n",
       "      <td>Spielbericht</td>\n",
       "    </tr>\n",
       "    <tr>\n",
       "      <th>1</th>\n",
       "      <td>Sa, 14.08.2021</td>\n",
       "      <td>NaN</td>\n",
       "      <td>BL, 1. Spt.</td>\n",
       "      <td>Sa, 14.08.2021  Borussia Dortmund Dortmund 5  ...</td>\n",
       "      <td>Analyse</td>\n",
       "    </tr>\n",
       "    <tr>\n",
       "      <th>2</th>\n",
       "      <td>Di, 17.08.2021</td>\n",
       "      <td>NaN</td>\n",
       "      <td>Supercup, Finale</td>\n",
       "      <td>Di, 17.08.2021  Borussia Dortmund Dortmund 1  ...</td>\n",
       "      <td>Spielbericht</td>\n",
       "    </tr>\n",
       "    <tr>\n",
       "      <th>3</th>\n",
       "      <td>Sa, 21.08.2021</td>\n",
       "      <td>NaN</td>\n",
       "      <td>BL, 2. Spt.</td>\n",
       "      <td>Sa, 21.08.2021  SC Freiburg Freiburg 2  :  1  ...</td>\n",
       "      <td>Analyse</td>\n",
       "    </tr>\n",
       "    <tr>\n",
       "      <th>4</th>\n",
       "      <td>Fr, 27.08.2021</td>\n",
       "      <td>NaN</td>\n",
       "      <td>BL, 3. Spt.</td>\n",
       "      <td>Fr, 27.08.2021  Borussia Dortmund Dortmund 3  ...</td>\n",
       "      <td>Analyse</td>\n",
       "    </tr>\n",
       "  </tbody>\n",
       "</table>\n",
       "</div>"
      ],
      "text/plain": [
       "                0   1                 2  \\\n",
       "0  Sa, 07.08.2021 NaN  DFB-Pokal, Rd. 1   \n",
       "1  Sa, 14.08.2021 NaN       BL, 1. Spt.   \n",
       "2  Di, 17.08.2021 NaN  Supercup, Finale   \n",
       "3  Sa, 21.08.2021 NaN       BL, 2. Spt.   \n",
       "4  Fr, 27.08.2021 NaN       BL, 3. Spt.   \n",
       "\n",
       "                                                   3             4  \n",
       "0  Sa, 07.08.2021  SV Wehen Wiesbaden Wiesbaden 0...  Spielbericht  \n",
       "1  Sa, 14.08.2021  Borussia Dortmund Dortmund 5  ...       Analyse  \n",
       "2  Di, 17.08.2021  Borussia Dortmund Dortmund 1  ...  Spielbericht  \n",
       "3  Sa, 21.08.2021  SC Freiburg Freiburg 2  :  1  ...       Analyse  \n",
       "4  Fr, 27.08.2021  Borussia Dortmund Dortmund 3  ...       Analyse  "
      ]
     },
     "execution_count": 17,
     "metadata": {},
     "output_type": "execute_result"
    }
   ],
   "source": [
    "season_2122[1]"
   ]
  },
  {
   "cell_type": "code",
   "execution_count": null,
   "metadata": {},
   "outputs": [],
   "source": []
  }
 ],
 "metadata": {
  "interpreter": {
   "hash": "336971fafdea4dd09ec2761f58af3b40b8710e0ba3f20d61b9731f8474bc36e8"
  },
  "kernelspec": {
   "display_name": "Python 3.8.8 64-bit ('mlcourse': conda)",
   "language": "python",
   "name": "python3"
  },
  "language_info": {
   "codemirror_mode": {
    "name": "ipython",
    "version": 3
   },
   "file_extension": ".py",
   "mimetype": "text/x-python",
   "name": "python",
   "nbconvert_exporter": "python",
   "pygments_lexer": "ipython3",
   "version": "3.8.8"
  },
  "orig_nbformat": 4
 },
 "nbformat": 4,
 "nbformat_minor": 2
}
